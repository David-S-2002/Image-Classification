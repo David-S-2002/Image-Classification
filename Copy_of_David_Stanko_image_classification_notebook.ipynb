{
  "nbformat": 4,
  "nbformat_minor": 0,
  "metadata": {
    "colab": {
      "provenance": [],
      "gpuType": "T4"
    },
    "kernelspec": {
      "name": "python3",
      "display_name": "Python 3"
    },
    "language_info": {
      "name": "python"
    },
    "accelerator": "GPU"
  },
  "cells": [
    {
      "cell_type": "markdown",
      "source": [
        "# David Stanko\n",
        "# Image Classification Notebook"
      ],
      "metadata": {
        "id": "rbo3TH1bVvJX"
      }
    },
    {
      "cell_type": "markdown",
      "source": [
        "## Introduction"
      ],
      "metadata": {
        "id": "PbGIJ4HXV-H8"
      }
    },
    {
      "cell_type": "markdown",
      "source": [
        "The goal of this notebook is to train and test a neural network that performs image classification. The neural network will predict whether an image is an airplane, a bird, or an automobile."
      ],
      "metadata": {
        "id": "H5rvxVJRV_H8"
      }
    },
    {
      "cell_type": "markdown",
      "source": [
        "## Data source"
      ],
      "metadata": {
        "id": "9sEZQyNQSmOF"
      }
    },
    {
      "cell_type": "markdown",
      "source": [
        "We will use the [CIFAR-10 dataset](https://keras.io/api/datasets/cifar10/) from Keras' built-in datasets. This is a dataset with 32 x 32 color images of 10 different objects. The objects are airplanes, automobiles, birds, cats, deer, dogs, frogs, horses, ships, or trucks. However, for this project, we will only train our neural network to classify the first three categories of images: airplanes, automobiles, and birds."
      ],
      "metadata": {
        "id": "hGXTdoQlSni1"
      }
    },
    {
      "cell_type": "markdown",
      "source": [
        "## Install and import libraries"
      ],
      "metadata": {
        "id": "KG2i1b1oVyvt"
      }
    },
    {
      "cell_type": "code",
      "source": [
        "!pip install keras-tuner"
      ],
      "metadata": {
        "colab": {
          "base_uri": "https://localhost:8080/"
        },
        "id": "OTNeH24IxuJK",
        "outputId": "7250a60d-afb0-4352-914d-77ce377f3660"
      },
      "execution_count": 116,
      "outputs": [
        {
          "output_type": "stream",
          "name": "stdout",
          "text": [
            "Requirement already satisfied: keras-tuner in /usr/local/lib/python3.10/dist-packages (1.4.7)\n",
            "Requirement already satisfied: keras in /usr/local/lib/python3.10/dist-packages (from keras-tuner) (2.15.0)\n",
            "Requirement already satisfied: packaging in /usr/local/lib/python3.10/dist-packages (from keras-tuner) (24.0)\n",
            "Requirement already satisfied: requests in /usr/local/lib/python3.10/dist-packages (from keras-tuner) (2.31.0)\n",
            "Requirement already satisfied: kt-legacy in /usr/local/lib/python3.10/dist-packages (from keras-tuner) (1.0.5)\n",
            "Requirement already satisfied: charset-normalizer<4,>=2 in /usr/local/lib/python3.10/dist-packages (from requests->keras-tuner) (3.3.2)\n",
            "Requirement already satisfied: idna<4,>=2.5 in /usr/local/lib/python3.10/dist-packages (from requests->keras-tuner) (3.7)\n",
            "Requirement already satisfied: urllib3<3,>=1.21.1 in /usr/local/lib/python3.10/dist-packages (from requests->keras-tuner) (2.0.7)\n",
            "Requirement already satisfied: certifi>=2017.4.17 in /usr/local/lib/python3.10/dist-packages (from requests->keras-tuner) (2024.6.2)\n"
          ]
        }
      ]
    },
    {
      "cell_type": "code",
      "source": [
        "import matplotlib.pyplot as plt\n",
        "import numpy as np\n",
        "import pandas as pd\n",
        "import keras\n",
        "import keras_tuner\n",
        "from keras import layers, regularizers\n",
        "from keras.optimizers.legacy import Adam\n",
        "from keras.callbacks import EarlyStopping, TensorBoard"
      ],
      "metadata": {
        "id": "h2vgO-q_SFYz"
      },
      "execution_count": 117,
      "outputs": []
    },
    {
      "cell_type": "code",
      "source": [
        "from google.colab import drive\n",
        "drive.mount('/content/drive')"
      ],
      "metadata": {
        "colab": {
          "base_uri": "https://localhost:8080/"
        },
        "id": "PCZVTQLXar0A",
        "outputId": "850e3b79-3620-4a1b-adf7-2e8a8940053e"
      },
      "execution_count": 118,
      "outputs": [
        {
          "output_type": "stream",
          "name": "stdout",
          "text": [
            "Drive already mounted at /content/drive; to attempt to forcibly remount, call drive.mount(\"/content/drive\", force_remount=True).\n"
          ]
        }
      ]
    },
    {
      "cell_type": "markdown",
      "source": [
        "## Load the CIFAR-10 dataset"
      ],
      "metadata": {
        "id": "tNppEdHYSLuP"
      }
    },
    {
      "cell_type": "markdown",
      "source": [
        "We will load all the training examples and all the testing examples."
      ],
      "metadata": {
        "id": "lh36p6zsSkcA"
      }
    },
    {
      "cell_type": "code",
      "source": [
        "(X_train, Y_train), (X_test, Y_test) = keras.datasets.cifar10.load_data()"
      ],
      "metadata": {
        "id": "2Dd1lGVm6ug0"
      },
      "execution_count": 119,
      "outputs": []
    },
    {
      "cell_type": "markdown",
      "source": [
        "## Data preprocessing"
      ],
      "metadata": {
        "id": "51hhLmGHTN8M"
      }
    },
    {
      "cell_type": "markdown",
      "source": [
        "### Inspect the contents of the datasets"
      ],
      "metadata": {
        "id": "7h9_dNWETQNR"
      }
    },
    {
      "cell_type": "code",
      "source": [
        "print('X_train: ' + str(X_train.shape))\n",
        "print('Y_train: ' + str(Y_train.shape))\n",
        "print('X_test:  '  + str(X_test.shape))\n",
        "print('Y_test:  '  + str(Y_test.shape))"
      ],
      "metadata": {
        "colab": {
          "base_uri": "https://localhost:8080/"
        },
        "id": "-GEXP4Cn7Orr",
        "outputId": "7f6022ad-f6e0-4a3c-dda9-823c41d8ca1a"
      },
      "execution_count": 120,
      "outputs": [
        {
          "output_type": "stream",
          "name": "stdout",
          "text": [
            "X_train: (50000, 32, 32, 3)\n",
            "Y_train: (50000, 1)\n",
            "X_test:  (10000, 32, 32, 3)\n",
            "Y_test:  (10000, 1)\n"
          ]
        }
      ]
    },
    {
      "cell_type": "markdown",
      "source": [
        "In the entire dataset, there are 50,000 training examples and 10000 testing examples. They are all 32 x 32 images with 3 color channels."
      ],
      "metadata": {
        "id": "K7mA8x0x7ZXC"
      }
    },
    {
      "cell_type": "markdown",
      "source": [
        "Let's show some of the images and their labels."
      ],
      "metadata": {
        "id": "Dodv7-aL8R6W"
      }
    },
    {
      "cell_type": "code",
      "source": [
        "for i in range(4, 7):\n",
        "  plt.subplot(330 + 1 + i)\n",
        "  plt.imshow(X_train[i], cmap=plt.get_cmap('gray'))\n",
        "  plt.show()\n",
        "  print(Y_train[i])"
      ],
      "metadata": {
        "colab": {
          "base_uri": "https://localhost:8080/",
          "height": 485
        },
        "id": "AhwC709J77Ad",
        "outputId": "eb481e09-7db2-4da0-b8f5-4f759df1f397"
      },
      "execution_count": 121,
      "outputs": [
        {
          "output_type": "display_data",
          "data": {
            "text/plain": [
              "<Figure size 400x400 with 1 Axes>"
            ],
            "image/png": "[encoded data removed]"
          },
          "metadata": {}
        },
        {
          "output_type": "stream",
          "name": "stdout",
          "text": [
            "[1]\n"
          ]
        },
        {
          "output_type": "display_data",
          "data": {
            "text/plain": [
              "<Figure size 400x400 with 1 Axes>"
            ],
            "image/png": "[encoded data removed]"
          },
          "metadata": {}
        },
        {
          "output_type": "stream",
          "name": "stdout",
          "text": [
            "[1]\n"
          ]
        },
        {
          "output_type": "display_data",
          "data": {
            "text/plain": [
              "<Figure size 400x400 with 1 Axes>"
            ],
            "image/png": "[encoded data removed]"
          },
          "metadata": {}
        },
        {
          "output_type": "stream",
          "name": "stdout",
          "text": [
            "[2]\n"
          ]
        }
      ]
    },
    {
      "cell_type": "markdown",
      "source": [
        "### Flatten the images from a 3D array to a 1D array"
      ],
      "metadata": {
        "id": "Mgq4wXP88bX6"
      }
    },
    {
      "cell_type": "code",
      "source": [
        "X_train = X_train.reshape(X_train.shape[0], -1)\n",
        "X_train.shape"
      ],
      "metadata": {
        "colab": {
          "base_uri": "https://localhost:8080/"
        },
        "id": "bdnxYKCb7wLM",
        "outputId": "4e1a0e16-b226-4a5a-9bfe-bee6cfc44250"
      },
      "execution_count": 122,
      "outputs": [
        {
          "output_type": "execute_result",
          "data": {
            "text/plain": [
              "(50000, 3072)"
            ]
          },
          "metadata": {},
          "execution_count": 122
        }
      ]
    },
    {
      "cell_type": "code",
      "source": [
        "X_test = X_test.reshape(X_test.shape[0], -1)\n",
        "X_test.shape"
      ],
      "metadata": {
        "colab": {
          "base_uri": "https://localhost:8080/"
        },
        "id": "jMBxxByM8oUQ",
        "outputId": "4d6ed028-c016-4e41-92fa-3e642f5a81e3"
      },
      "execution_count": 123,
      "outputs": [
        {
          "output_type": "execute_result",
          "data": {
            "text/plain": [
              "(10000, 3072)"
            ]
          },
          "metadata": {},
          "execution_count": 123
        }
      ]
    },
    {
      "cell_type": "markdown",
      "source": [
        "Now each row is an image, and the columns of each row are the pixels of that image."
      ],
      "metadata": {
        "id": "2hXLobOQ85Gf"
      }
    },
    {
      "cell_type": "markdown",
      "source": [
        "### Select only the birds, airplanes, and automobiles"
      ],
      "metadata": {
        "id": "xVbwp7HHpBD4"
      }
    },
    {
      "cell_type": "markdown",
      "source": [
        "Now we will only select the images that are birds, airplanes, and automobiles (with class labels 0, 1, and 2, respectively). This code finds the array indices where the training and testing data has labels 0, 1, and 2. Then we select the data at those indices."
      ],
      "metadata": {
        "id": "_qQvfWu6TgVc"
      }
    },
    {
      "cell_type": "code",
      "source": [
        "Y_train = Y_train.reshape(1, -1)\n",
        "Y_test = Y_test.reshape(1, -1)\n",
        "selected_indices_train = np.where((Y_train == 0) | (Y_train == 1) | (Y_train == 2))\n",
        "selected_indices_test = np.where((Y_test == 0) | (Y_test == 1) | (Y_test == 2))\n",
        "\n",
        "Y_train = Y_train[selected_indices_train]\n",
        "Y_test = Y_test[selected_indices_test]\n",
        "X_train = X_train[selected_indices_train[1]]\n",
        "X_test = X_test[selected_indices_test[1]]\n",
        "\n",
        "print(X_test.shape)\n",
        "print(X_train.shape)\n",
        "print(Y_test.shape)\n",
        "print(Y_train.shape)"
      ],
      "metadata": {
        "colab": {
          "base_uri": "https://localhost:8080/"
        },
        "id": "NT6p-q9BpDIc",
        "outputId": "cca63302-ab20-439a-923e-7e527e05219b"
      },
      "execution_count": 124,
      "outputs": [
        {
          "output_type": "stream",
          "name": "stdout",
          "text": [
            "(3000, 3072)\n",
            "(15000, 3072)\n",
            "(3000,)\n",
            "(15000,)\n"
          ]
        }
      ]
    },
    {
      "cell_type": "markdown",
      "source": [
        "We will reshape Y_train and Y_test again to be compatible for training the neural network and making predictions with it."
      ],
      "metadata": {
        "id": "aU1zJeqgfHBF"
      }
    },
    {
      "cell_type": "code",
      "source": [
        "Y_train = Y_train.reshape(-1, 1)\n",
        "Y_test = Y_test.reshape(-1, 1)\n",
        "num_classes = len(np.unique(Y_train))"
      ],
      "metadata": {
        "id": "kpTMPtofeI2A"
      },
      "execution_count": 125,
      "outputs": []
    },
    {
      "cell_type": "markdown",
      "source": [
        "### Normalize the data"
      ],
      "metadata": {
        "id": "l-ct2rooLysI"
      }
    },
    {
      "cell_type": "markdown",
      "source": [
        "We will normalize the data by dividing each pixel by 255."
      ],
      "metadata": {
        "id": "jbk1suxLL0aU"
      }
    },
    {
      "cell_type": "code",
      "source": [
        "X_train_norm = X_train / 255\n",
        "X_test_norm = X_test / 255"
      ],
      "metadata": {
        "id": "J1tRyv5G8xbJ"
      },
      "execution_count": 126,
      "outputs": []
    },
    {
      "cell_type": "markdown",
      "source": [
        "## Build the neural network and conduct a parameter sweep"
      ],
      "metadata": {
        "id": "pCChJgJ71vK4"
      }
    },
    {
      "cell_type": "markdown",
      "source": [
        "We will use `keras_tuner` to find the best hyperparameters of the neural network. Then, we will load the neural network with the best model architecture and test that neural network with the test dataset."
      ],
      "metadata": {
        "id": "YOVuFKjzj4gY"
      }
    },
    {
      "cell_type": "markdown",
      "source": [
        "The `define_model function` defines the number of layers, the metric (we will use accuracy), the loss function, and the optimizer. We will use either the sigmoid or ReLU activation functions (determined by the parameter sweep) for all the layers except the output layer. But we will use softmax for the output layer because softmax converts the outputs of the layer to a probability distribution where all 3 outputs are between 0 and 1 and sum to 1."
      ],
      "metadata": {
        "id": "0KiZYL4BkFj4"
      }
    },
    {
      "cell_type": "code",
      "source": [
        "def define_model(units, num_layers, activation, lr, l2):\n",
        "    model_layers = [\n",
        "        layers.Dense(units, activation=activation, kernel_regularizer=regularizers.L2(l2=l2), kernel_initializer=keras.initializers.HeNormal())\n",
        "        ] * num_layers\n",
        "    model_layers += [layers.Dense(num_classes, activation='softmax')]\n",
        "    model = keras.Sequential(model_layers)\n",
        "    model.compile(loss=keras.losses.SparseCategoricalCrossentropy(), metrics=['accuracy'], optimizer=Adam(learning_rate=lr))\n",
        "\n",
        "    return model"
      ],
      "metadata": {
        "id": "DMgIwgDn1wg5"
      },
      "execution_count": 127,
      "outputs": []
    },
    {
      "cell_type": "markdown",
      "source": [
        "For the tuner, we need a function that takes hyperparameters and returns a model. That function is `build_model`. For the parameter sweep, we can choose between 512, and 3072 units per layer. (I chose 3072 since that is the number of pixels in each image). We can choose between 2, 3, 4, or 5 layers in the neural network. We can choose between a sigmoid and ReLU activation function. For the learning rate and the L2 regularization, we'll use logarithmically spaced values between 1^(-5) and 1^(-1)."
      ],
      "metadata": {
        "id": "4sZ-aSi4lyVP"
      }
    },
    {
      "cell_type": "code",
      "source": [
        "def build_model(hp):\n",
        "    units = hp.Choice(\"units\", [512, 3072])\n",
        "    activation = hp.Choice(\"activation\", [\"relu\", \"sigmoid\"])\n",
        "    lr = hp.Float(\"lr\", min_value=1e-5, max_value=1e-1, sampling=\"log\")\n",
        "    l2 = hp.Float(\"l2\", min_value=1e-5, max_value=1e-1, sampling=\"log\")\n",
        "    num_layers = hp.Choice(\"num_layers\", [2, 3, 4, 5])\n",
        "\n",
        "    model = define_model(units=units, num_layers=num_layers, activation=activation, lr=lr, l2=l2)\n",
        "    return model"
      ],
      "metadata": {
        "id": "Sx-NDza84dsQ"
      },
      "execution_count": 128,
      "outputs": []
    },
    {
      "cell_type": "markdown",
      "source": [
        "This code creates the tuner object. We will test the accuracy on the validation dataset, and we will test 8 model configurations at most."
      ],
      "metadata": {
        "id": "PzSUEN3Qav8D"
      }
    },
    {
      "cell_type": "code",
      "source": [
        "tuner = keras_tuner.BayesianOptimization(\n",
        "    hypermodel=build_model,\n",
        "    objective=\"val_loss\",\n",
        "    max_trials=8,\n",
        "    executions_per_trial=1,\n",
        "    overwrite=False,\n",
        "    directory=\"/content/drive/MyDrive/models/cifar10_sweep_11\",\n",
        ")"
      ],
      "metadata": {
        "id": "VTYGEq7CaxWc",
        "colab": {
          "base_uri": "https://localhost:8080/"
        },
        "outputId": "cf7b2053-d4ff-47a2-e233-0abe983106d7"
      },
      "execution_count": 129,
      "outputs": [
        {
          "output_type": "stream",
          "name": "stdout",
          "text": [
            "Reloading Tuner from /content/drive/MyDrive/models/cifar10_sweep_11/untitled_project/tuner0.json\n"
          ]
        }
      ]
    },
    {
      "cell_type": "markdown",
      "source": [
        "This code defines a callback function. The callback function will be called at the end of every epoch to check whether the accuracy is still increasing. We will start monitoring the validation loss after 4 epochs, and if it's not improving after 2 epochs, we will stop the training."
      ],
      "metadata": {
        "id": "7NUs8sPEkueg"
      }
    },
    {
      "cell_type": "code",
      "source": [
        "callbacks = [EarlyStopping(monitor=\"val_loss\", patience=2, restore_best_weights=True, start_from_epoch=4)]"
      ],
      "metadata": {
        "id": "400Smjh1iV5C"
      },
      "execution_count": 130,
      "outputs": []
    },
    {
      "cell_type": "markdown",
      "source": [
        "This code performs the parameter sweep. We will use 10 epochs. (Note that it will take a long time to run; it took 4 minutes for me on a GPU).\n"
      ],
      "metadata": {
        "id": "NUC3y6kAk_bY"
      }
    },
    {
      "cell_type": "code",
      "source": [
        "tuner.search(\n",
        "    X_train_norm,\n",
        "    Y_train,\n",
        "    epochs=10,\n",
        "    verbose=1,\n",
        "    validation_data=(X_test_norm, Y_test),\n",
        "    callbacks=callbacks\n",
        ")"
      ],
      "metadata": {
        "id": "-eu8lKv-igFD"
      },
      "execution_count": 131,
      "outputs": []
    },
    {
      "cell_type": "markdown",
      "source": [
        "To see the results of the parameter sweep, we'll print out the 5 best models."
      ],
      "metadata": {
        "id": "o4zdHGcKlL-J"
      }
    },
    {
      "cell_type": "code",
      "source": [
        "tuner.results_summary(5)"
      ],
      "metadata": {
        "id": "qNYzSelgiiHN",
        "colab": {
          "base_uri": "https://localhost:8080/"
        },
        "outputId": "9b2c38ac-9815-456b-fa2c-797155a5c84d"
      },
      "execution_count": 132,
      "outputs": [
        {
          "output_type": "stream",
          "name": "stdout",
          "text": [
            "Results summary\n",
            "Results in /content/drive/MyDrive/models/cifar10_sweep_11/untitled_project\n",
            "Showing 5 best trials\n",
            "Objective(name=\"val_loss\", direction=\"min\")\n",
            "\n",
            "Trial 1 summary\n",
            "Hyperparameters:\n",
            "units: 512\n",
            "activation: sigmoid\n",
            "lr: 0.0002920193478525102\n",
            "l2: 0.00017109264361349003\n",
            "num_layers: 4\n",
            "Score: 0.6869243383407593\n",
            "\n",
            "Trial 0 summary\n",
            "Hyperparameters:\n",
            "units: 3072\n",
            "activation: relu\n",
            "lr: 8.561545772838868e-05\n",
            "l2: 5.031367553204709e-05\n",
            "num_layers: 5\n",
            "Score: 0.7498770952224731\n",
            "\n",
            "Trial 4 summary\n",
            "Hyperparameters:\n",
            "units: 512\n",
            "activation: relu\n",
            "lr: 0.000155862916523137\n",
            "l2: 0.06292023822783538\n",
            "num_layers: 2\n",
            "Score: 0.7981525659561157\n",
            "\n",
            "Trial 5 summary\n",
            "Hyperparameters:\n",
            "units: 3072\n",
            "activation: relu\n",
            "lr: 0.027857427733600323\n",
            "l2: 6.849324968662723e-05\n",
            "num_layers: 5\n",
            "Score: 0.8012748956680298\n",
            "\n",
            "Trial 7 summary\n",
            "Hyperparameters:\n",
            "units: 512\n",
            "activation: relu\n",
            "lr: 0.04879508350820232\n",
            "l2: 0.007559607779712685\n",
            "num_layers: 4\n",
            "Score: 1.0989466905593872\n"
          ]
        }
      ]
    },
    {
      "cell_type": "markdown",
      "source": [
        "## Load the best model and use it to make predictions"
      ],
      "metadata": {
        "id": "IHnzY6mHBNFP"
      }
    },
    {
      "cell_type": "markdown",
      "source": [
        "The best model was number 1. So the best model architecture had 512 units per layer, a sigmoid activation function, 4 layers, a learning rate of about 0.00029, and an L2 regularization coefficient of about 0.00017.\n",
        "\n",
        "We will load model 1 and use it to make predictions with the test dataset.\n"
      ],
      "metadata": {
        "id": "QalfoMCxlQXV"
      }
    },
    {
      "cell_type": "code",
      "source": [
        "import json\n",
        "from sklearn.metrics import confusion_matrix\n",
        "\n",
        "trial_num = \"1\"\n",
        "with open(f\"/content/drive/MyDrive/models/cifar10_sweep_11/untitled_project/trial_{trial_num}/trial.json\", \"r\") as f:\n",
        "    trial = json.load(f)\n",
        "hp = trial[\"hyperparameters\"][\"values\"]\n",
        "model = define_model(units=hp[\"units\"], num_layers=hp[\"num_layers\"], activation=hp[\"activation\"], lr=hp[\"lr\"],\n",
        "                     l2=hp[\"l2\"])\n",
        "model.load_weights(f\"/content/drive/MyDrive/models/cifar10_sweep_11/untitled_project/trial_{trial_num}/checkpoint\")"
      ],
      "metadata": {
        "id": "oUtZb0sOim4W",
        "colab": {
          "base_uri": "https://localhost:8080/"
        },
        "outputId": "960ad627-3715-420b-835a-4667f30923a8"
      },
      "execution_count": 133,
      "outputs": [
        {
          "output_type": "execute_result",
          "data": {
            "text/plain": [
              "<tensorflow.python.checkpoint.checkpoint.CheckpointLoadStatus at 0x7b086d20e920>"
            ]
          },
          "metadata": {},
          "execution_count": 133
        }
      ]
    },
    {
      "cell_type": "markdown",
      "source": [
        "In the following code, we will perform the prediction and print the confusion matrix and the accuracy. `model.predict()` returns the probability for each class that the image belongs to that class. So, since we want to get the index of the class, we'll use `np.argmax()`."
      ],
      "metadata": {
        "id": "UvkZBjMBlW6f"
      }
    },
    {
      "cell_type": "code",
      "source": [
        "probabilities = model.predict(X_test_norm)\n",
        "y_pred = np.argmax(probabilities, axis=1)\n",
        "Y_test = Y_test.reshape(-1,)\n",
        "cm = confusion_matrix(Y_test, y_pred)\n",
        "print(cm)\n",
        "accuracy = (y_pred.reshape((1, -1)) == Y_test.reshape((1, -1))).sum() / len(Y_test) * 100\n",
        "print(accuracy)"
      ],
      "metadata": {
        "colab": {
          "base_uri": "https://localhost:8080/"
        },
        "id": "8VT3ApxXgIeP",
        "outputId": "96e4939c-2b23-4802-9181-49b50a7b2cca"
      },
      "execution_count": 134,
      "outputs": [
        {
          "output_type": "stream",
          "name": "stdout",
          "text": [
            "94/94 [==============================] - 0s 1ms/step\n",
            "[[783  69 148]\n",
            " [134 736 130]\n",
            " [159  59 782]]\n",
            "76.7\n"
          ]
        }
      ]
    },
    {
      "cell_type": "markdown",
      "source": [
        "The accuracy is 76.7%. That's very good compared to the accuracy we would get by just guessing, which is about 33%.\n",
        "\n",
        "In the code cell below, we will use Pandas to label the confusion matrix with the class labels, so we can see which actual and predicted classes the matrix entries belong to."
      ],
      "metadata": {
        "id": "jkzvdujpry5a"
      }
    },
    {
      "cell_type": "code",
      "source": [
        "classes = ['airplane', 'automobile', 'bird']\n",
        "cm_df = pd.DataFrame(cm, columns=classes, index = classes, dtype=int)\n",
        "cm_df"
      ],
      "metadata": {
        "colab": {
          "base_uri": "https://localhost:8080/",
          "height": 143
        },
        "id": "JuwDVrPnbF6-",
        "outputId": "96c86da5-ddf1-442b-a31a-98367d855c78"
      },
      "execution_count": 135,
      "outputs": [
        {
          "output_type": "execute_result",
          "data": {
            "text/plain": [
              "            airplane  automobile  bird\n",
              "airplane         783          69   148\n",
              "automobile       134         736   130\n",
              "bird             159          59   782"
            ],
            "text/html": [
              "\n",
              "  <div id=\"df-228a7905-f06f-4ee2-acb1-38944d3172b8\" class=\"colab-df-container\">\n",
              "    <div>\n",
              "<style scoped>\n",
              "    .dataframe tbody tr th:only-of-type {\n",
              "        vertical-align: middle;\n",
              "    }\n",
              "\n",
              "    .dataframe tbody tr th {\n",
              "        vertical-align: top;\n",
              "    }\n",
              "\n",
              "    .dataframe thead th {\n",
              "        text-align: right;\n",
              "    }\n",
              "</style>\n",
              "<table border=\"1\" class=\"dataframe\">\n",
              "  <thead>\n",
              "    <tr style=\"text-align: right;\">\n",
              "      <th></th>\n",
              "      <th>airplane</th>\n",
              "      <th>automobile</th>\n",
              "      <th>bird</th>\n",
              "    </tr>\n",
              "  </thead>\n",
              "  <tbody>\n",
              "    <tr>\n",
              "      <th>airplane</th>\n",
              "      <td>783</td>\n",
              "      <td>69</td>\n",
              "      <td>148</td>\n",
              "    </tr>\n",
              "    <tr>\n",
              "      <th>automobile</th>\n",
              "      <td>134</td>\n",
              "      <td>736</td>\n",
              "      <td>130</td>\n",
              "    </tr>\n",
              "    <tr>\n",
              "      <th>bird</th>\n",
              "      <td>159</td>\n",
              "      <td>59</td>\n",
              "      <td>782</td>\n",
              "    </tr>\n",
              "  </tbody>\n",
              "</table>\n",
              "</div>\n",
              "    <div class=\"colab-df-buttons\">\n",
              "\n",
              "  <div class=\"colab-df-container\">\n",
              "    <button class=\"colab-df-convert\" onclick=\"convertToInteractive('df-228a7905-f06f-4ee2-acb1-38944d3172b8')\"\n",
              "            title=\"Convert this dataframe to an interactive table.\"\n",
              "            style=\"display:none;\">\n",
              "\n",
              "  <svg xmlns=\"http://www.w3.org/2000/svg\" height=\"24px\" viewBox=\"0 -960 960 960\">\n",
              "    <path d=\"M120-120v-720h720v720H120Zm60-500h600v-160H180v160Zm220 220h160v-160H400v160Zm0 220h160v-160H400v160ZM180-400h160v-160H180v160Zm440 0h160v-160H620v160ZM180-180h160v-160H180v160Zm440 0h160v-160H620v160Z\"/>\n",
              "  </svg>\n",
              "    </button>\n",
              "\n",
              "  <style>\n",
              "    .colab-df-container {\n",
              "      display:flex;\n",
              "      gap: 12px;\n",
              "    }\n",
              "\n",
              "    .colab-df-convert {\n",
              "      background-color: #E8F0FE;\n",
              "      border: none;\n",
              "      border-radius: 50%;\n",
              "      cursor: pointer;\n",
              "      display: none;\n",
              "      fill: #1967D2;\n",
              "      height: 32px;\n",
              "      padding: 0 0 0 0;\n",
              "      width: 32px;\n",
              "    }\n",
              "\n",
              "    .colab-df-convert:hover {\n",
              "      background-color: #E2EBFA;\n",
              "      box-shadow: 0px 1px 2px rgba(60, 64, 67, 0.3), 0px 1px 3px 1px rgba(60, 64, 67, 0.15);\n",
              "      fill: #174EA6;\n",
              "    }\n",
              "\n",
              "    .colab-df-buttons div {\n",
              "      margin-bottom: 4px;\n",
              "    }\n",
              "\n",
              "    [theme=dark] .colab-df-convert {\n",
              "      background-color: #3B4455;\n",
              "      fill: #D2E3FC;\n",
              "    }\n",
              "\n",
              "    [theme=dark] .colab-df-convert:hover {\n",
              "      background-color: #434B5C;\n",
              "      box-shadow: 0px 1px 3px 1px rgba(0, 0, 0, 0.15);\n",
              "      filter: drop-shadow(0px 1px 2px rgba(0, 0, 0, 0.3));\n",
              "      fill: #FFFFFF;\n",
              "    }\n",
              "  </style>\n",
              "\n",
              "    <script>\n",
              "      const buttonEl =\n",
              "        document.querySelector('#df-228a7905-f06f-4ee2-acb1-38944d3172b8 button.colab-df-convert');\n",
              "      buttonEl.style.display =\n",
              "        google.colab.kernel.accessAllowed ? 'block' : 'none';\n",
              "\n",
              "      async function convertToInteractive(key) {\n",
              "        const element = document.querySelector('#df-228a7905-f06f-4ee2-acb1-38944d3172b8');\n",
              "        const dataTable =\n",
              "          await google.colab.kernel.invokeFunction('convertToInteractive',\n",
              "                                                    [key], {});\n",
              "        if (!dataTable) return;\n",
              "\n",
              "        const docLinkHtml = 'Like what you see? Visit the ' +\n",
              "          '<a target=\"_blank\" href=https://colab.research.google.com/notebooks/data_table.ipynb>data table notebook</a>'\n",
              "          + ' to learn more about interactive tables.';\n",
              "        element.innerHTML = '';\n",
              "        dataTable['output_type'] = 'display_data';\n",
              "        await google.colab.output.renderOutput(dataTable, element);\n",
              "        const docLink = document.createElement('div');\n",
              "        docLink.innerHTML = docLinkHtml;\n",
              "        element.appendChild(docLink);\n",
              "      }\n",
              "    </script>\n",
              "  </div>\n",
              "\n",
              "\n",
              "<div id=\"df-55c6ac66-557e-467c-b711-ca17eaf38c64\">\n",
              "  <button class=\"colab-df-quickchart\" onclick=\"quickchart('df-55c6ac66-557e-467c-b711-ca17eaf38c64')\"\n",
              "            title=\"Suggest charts\"\n",
              "            style=\"display:none;\">\n",
              "\n",
              "<svg xmlns=\"http://www.w3.org/2000/svg\" height=\"24px\"viewBox=\"0 0 24 24\"\n",
              "     width=\"24px\">\n",
              "    <g>\n",
              "        <path d=\"M19 3H5c-1.1 0-2 .9-2 2v14c0 1.1.9 2 2 2h14c1.1 0 2-.9 2-2V5c0-1.1-.9-2-2-2zM9 17H7v-7h2v7zm4 0h-2V7h2v10zm4 0h-2v-4h2v4z\"/>\n",
              "    </g>\n",
              "</svg>\n",
              "  </button>\n",
              "\n",
              "<style>\n",
              "  .colab-df-quickchart {\n",
              "      --bg-color: #E8F0FE;\n",
              "      --fill-color: #1967D2;\n",
              "      --hover-bg-color: #E2EBFA;\n",
              "      --hover-fill-color: #174EA6;\n",
              "      --disabled-fill-color: #AAA;\n",
              "      --disabled-bg-color: #DDD;\n",
              "  }\n",
              "\n",
              "  [theme=dark] .colab-df-quickchart {\n",
              "      --bg-color: #3B4455;\n",
              "      --fill-color: #D2E3FC;\n",
              "      --hover-bg-color: #434B5C;\n",
              "      --hover-fill-color: #FFFFFF;\n",
              "      --disabled-bg-color: #3B4455;\n",
              "      --disabled-fill-color: #666;\n",
              "  }\n",
              "\n",
              "  .colab-df-quickchart {\n",
              "    background-color: var(--bg-color);\n",
              "    border: none;\n",
              "    border-radius: 50%;\n",
              "    cursor: pointer;\n",
              "    display: none;\n",
              "    fill: var(--fill-color);\n",
              "    height: 32px;\n",
              "    padding: 0;\n",
              "    width: 32px;\n",
              "  }\n",
              "\n",
              "  .colab-df-quickchart:hover {\n",
              "    background-color: var(--hover-bg-color);\n",
              "    box-shadow: 0 1px 2px rgba(60, 64, 67, 0.3), 0 1px 3px 1px rgba(60, 64, 67, 0.15);\n",
              "    fill: var(--button-hover-fill-color);\n",
              "  }\n",
              "\n",
              "  .colab-df-quickchart-complete:disabled,\n",
              "  .colab-df-quickchart-complete:disabled:hover {\n",
              "    background-color: var(--disabled-bg-color);\n",
              "    fill: var(--disabled-fill-color);\n",
              "    box-shadow: none;\n",
              "  }\n",
              "\n",
              "  .colab-df-spinner {\n",
              "    border: 2px solid var(--fill-color);\n",
              "    border-color: transparent;\n",
              "    border-bottom-color: var(--fill-color);\n",
              "    animation:\n",
              "      spin 1s steps(1) infinite;\n",
              "  }\n",
              "\n",
              "  @keyframes spin {\n",
              "    0% {\n",
              "      border-color: transparent;\n",
              "      border-bottom-color: var(--fill-color);\n",
              "      border-left-color: var(--fill-color);\n",
              "    }\n",
              "    20% {\n",
              "      border-color: transparent;\n",
              "      border-left-color: var(--fill-color);\n",
              "      border-top-color: var(--fill-color);\n",
              "    }\n",
              "    30% {\n",
              "      border-color: transparent;\n",
              "      border-left-color: var(--fill-color);\n",
              "      border-top-color: var(--fill-color);\n",
              "      border-right-color: var(--fill-color);\n",
              "    }\n",
              "    40% {\n",
              "      border-color: transparent;\n",
              "      border-right-color: var(--fill-color);\n",
              "      border-top-color: var(--fill-color);\n",
              "    }\n",
              "    60% {\n",
              "      border-color: transparent;\n",
              "      border-right-color: var(--fill-color);\n",
              "    }\n",
              "    80% {\n",
              "      border-color: transparent;\n",
              "      border-right-color: var(--fill-color);\n",
              "      border-bottom-color: var(--fill-color);\n",
              "    }\n",
              "    90% {\n",
              "      border-color: transparent;\n",
              "      border-bottom-color: var(--fill-color);\n",
              "    }\n",
              "  }\n",
              "</style>\n",
              "\n",
              "  <script>\n",
              "    async function quickchart(key) {\n",
              "      const quickchartButtonEl =\n",
              "        document.querySelector('#' + key + ' button');\n",
              "      quickchartButtonEl.disabled = true;  // To prevent multiple clicks.\n",
              "      quickchartButtonEl.classList.add('colab-df-spinner');\n",
              "      try {\n",
              "        const charts = await google.colab.kernel.invokeFunction(\n",
              "            'suggestCharts', [key], {});\n",
              "      } catch (error) {\n",
              "        console.error('Error during call to suggestCharts:', error);\n",
              "      }\n",
              "      quickchartButtonEl.classList.remove('colab-df-spinner');\n",
              "      quickchartButtonEl.classList.add('colab-df-quickchart-complete');\n",
              "    }\n",
              "    (() => {\n",
              "      let quickchartButtonEl =\n",
              "        document.querySelector('#df-55c6ac66-557e-467c-b711-ca17eaf38c64 button');\n",
              "      quickchartButtonEl.style.display =\n",
              "        google.colab.kernel.accessAllowed ? 'block' : 'none';\n",
              "    })();\n",
              "  </script>\n",
              "</div>\n",
              "\n",
              "  <div id=\"id_a772e076-c211-42ad-8a85-f9c5b643f0af\">\n",
              "    <style>\n",
              "      .colab-df-generate {\n",
              "        background-color: #E8F0FE;\n",
              "        border: none;\n",
              "        border-radius: 50%;\n",
              "        cursor: pointer;\n",
              "        display: none;\n",
              "        fill: #1967D2;\n",
              "        height: 32px;\n",
              "        padding: 0 0 0 0;\n",
              "        width: 32px;\n",
              "      }\n",
              "\n",
              "      .colab-df-generate:hover {\n",
              "        background-color: #E2EBFA;\n",
              "        box-shadow: 0px 1px 2px rgba(60, 64, 67, 0.3), 0px 1px 3px 1px rgba(60, 64, 67, 0.15);\n",
              "        fill: #174EA6;\n",
              "      }\n",
              "\n",
              "      [theme=dark] .colab-df-generate {\n",
              "        background-color: #3B4455;\n",
              "        fill: #D2E3FC;\n",
              "      }\n",
              "\n",
              "      [theme=dark] .colab-df-generate:hover {\n",
              "        background-color: #434B5C;\n",
              "        box-shadow: 0px 1px 3px 1px rgba(0, 0, 0, 0.15);\n",
              "        filter: drop-shadow(0px 1px 2px rgba(0, 0, 0, 0.3));\n",
              "        fill: #FFFFFF;\n",
              "      }\n",
              "    </style>\n",
              "    <button class=\"colab-df-generate\" onclick=\"generateWithVariable('cm_df')\"\n",
              "            title=\"Generate code using this dataframe.\"\n",
              "            style=\"display:none;\">\n",
              "\n",
              "  <svg xmlns=\"http://www.w3.org/2000/svg\" height=\"24px\"viewBox=\"0 0 24 24\"\n",
              "       width=\"24px\">\n",
              "    <path d=\"M7,19H8.4L18.45,9,17,7.55,7,17.6ZM5,21V16.75L18.45,3.32a2,2,0,0,1,2.83,0l1.4,1.43a1.91,1.91,0,0,1,.58,1.4,1.91,1.91,0,0,1-.58,1.4L9.25,21ZM18.45,9,17,7.55Zm-12,3A5.31,5.31,0,0,0,4.9,8.1,5.31,5.31,0,0,0,1,6.5,5.31,5.31,0,0,0,4.9,4.9,5.31,5.31,0,0,0,6.5,1,5.31,5.31,0,0,0,8.1,4.9,5.31,5.31,0,0,0,12,6.5,5.46,5.46,0,0,0,6.5,12Z\"/>\n",
              "  </svg>\n",
              "    </button>\n",
              "    <script>\n",
              "      (() => {\n",
              "      const buttonEl =\n",
              "        document.querySelector('#id_a772e076-c211-42ad-8a85-f9c5b643f0af button.colab-df-generate');\n",
              "      buttonEl.style.display =\n",
              "        google.colab.kernel.accessAllowed ? 'block' : 'none';\n",
              "\n",
              "      buttonEl.onclick = () => {\n",
              "        google.colab.notebook.generateWithVariable('cm_df');\n",
              "      }\n",
              "      })();\n",
              "    </script>\n",
              "  </div>\n",
              "\n",
              "    </div>\n",
              "  </div>\n"
            ],
            "application/vnd.google.colaboratory.intrinsic+json": {
              "type": "dataframe",
              "variable_name": "cm_df",
              "summary": "{\n  \"name\": \"cm_df\",\n  \"rows\": 3,\n  \"fields\": [\n    {\n      \"column\": \"airplane\",\n      \"properties\": {\n        \"dtype\": \"number\",\n        \"std\": 367,\n        \"min\": 134,\n        \"max\": 783,\n        \"num_unique_values\": 3,\n        \"samples\": [\n          783,\n          134,\n          159\n        ],\n        \"semantic_type\": \"\",\n        \"description\": \"\"\n      }\n    },\n    {\n      \"column\": \"automobile\",\n      \"properties\": {\n        \"dtype\": \"number\",\n        \"std\": 388,\n        \"min\": 59,\n        \"max\": 736,\n        \"num_unique_values\": 3,\n        \"samples\": [\n          69,\n          736,\n          59\n        ],\n        \"semantic_type\": \"\",\n        \"description\": \"\"\n      }\n    },\n    {\n      \"column\": \"bird\",\n      \"properties\": {\n        \"dtype\": \"number\",\n        \"std\": 371,\n        \"min\": 130,\n        \"max\": 782,\n        \"num_unique_values\": 3,\n        \"samples\": [\n          148,\n          130,\n          782\n        ],\n        \"semantic_type\": \"\",\n        \"description\": \"\"\n      }\n    }\n  ]\n}"
            }
          },
          "metadata": {},
          "execution_count": 135
        }
      ]
    },
    {
      "cell_type": "markdown",
      "source": [
        "## Looking more closely at which images were misclassified"
      ],
      "metadata": {
        "id": "LlUkZ6QwBXC6"
      }
    },
    {
      "cell_type": "markdown",
      "source": [
        "First we will calculate the percentages of birds, planes, and automobiles that were classified correctly, respectively."
      ],
      "metadata": {
        "id": "-dgQUn4FBl-1"
      }
    },
    {
      "cell_type": "code",
      "source": [
        "cm_df.loc['bird', 'bird']/sum(cm_df.loc['bird']) * 100"
      ],
      "metadata": {
        "colab": {
          "base_uri": "https://localhost:8080/"
        },
        "id": "bowov9SWAS4_",
        "outputId": "93213e50-25f6-40f5-924d-533b873707fe"
      },
      "execution_count": 136,
      "outputs": [
        {
          "output_type": "execute_result",
          "data": {
            "text/plain": [
              "78.2"
            ]
          },
          "metadata": {},
          "execution_count": 136
        }
      ]
    },
    {
      "cell_type": "code",
      "source": [
        "cm_df.loc['airplane', 'airplane']/sum(cm_df.loc['airplane']) * 100"
      ],
      "metadata": {
        "colab": {
          "base_uri": "https://localhost:8080/"
        },
        "id": "hT5_FG9dAqCa",
        "outputId": "5d5b385e-c21a-4807-a34e-c89af5c9ad07"
      },
      "execution_count": 137,
      "outputs": [
        {
          "output_type": "execute_result",
          "data": {
            "text/plain": [
              "78.3"
            ]
          },
          "metadata": {},
          "execution_count": 137
        }
      ]
    },
    {
      "cell_type": "code",
      "source": [
        "cm_df.loc['automobile', 'automobile']/sum(cm_df.loc['automobile']) * 100"
      ],
      "metadata": {
        "colab": {
          "base_uri": "https://localhost:8080/"
        },
        "id": "edekmgQCA9WF",
        "outputId": "d8f31a7b-961c-4f70-d1e1-3f939641a045"
      },
      "execution_count": 138,
      "outputs": [
        {
          "output_type": "execute_result",
          "data": {
            "text/plain": [
              "73.6"
            ]
          },
          "metadata": {},
          "execution_count": 138
        }
      ]
    },
    {
      "cell_type": "markdown",
      "source": [
        "The accuracies for each individual class are very close to each other. So, the neural network can classify birds, planes, and automobiles with high accuracy. However, the accuracy for automobiles is slightly lower than the others (73.6%)."
      ],
      "metadata": {
        "id": "qf79CV7sYUxJ"
      }
    },
    {
      "cell_type": "markdown",
      "source": [
        "Let's look at the misclassfied automobiles. Additionally, birds were often predicted as planes, and planes were often predicted as birds. Those two matrix entries have the two highest numbers of misclassified examples. So, we will also look at those misclassified images and compare them to the automobile ones."
      ],
      "metadata": {
        "id": "6o38jsMpZs6v"
      }
    },
    {
      "cell_type": "markdown",
      "source": [
        "The following code cell finds the testing examples that are known to be automobiles but were predicted to be birds or planes, respectively."
      ],
      "metadata": {
        "id": "NY0nUmZXaATo"
      }
    },
    {
      "cell_type": "code",
      "source": [
        "automobiles_as_airplanes = X_test[np.where((Y_test == 1) & (y_pred == 0))].reshape((-1, 32, 32, 3)) # automobiles predicted as airplanes\n",
        "automobiles_as_birds = X_test[np.where((Y_test == 1) & (y_pred == 2))].reshape((-1, 32, 32, 3)) # automobiles predicted as airplanes"
      ],
      "metadata": {
        "id": "0xNJ25umVXIn"
      },
      "execution_count": 141,
      "outputs": []
    },
    {
      "cell_type": "markdown",
      "source": [
        "The following code cell finds the testing examples that are known to be planes but predicted as birds, and the ones that are known to be birds but predicted as planes."
      ],
      "metadata": {
        "id": "2PGQVBUfaGVk"
      }
    },
    {
      "cell_type": "code",
      "source": [
        "airplanes_as_birds = X_test[np.where((Y_test == 0) & (y_pred == 2))[1]].reshape((-1, 32, 32, 3)) # airplanes predicted as birds\n",
        "birds_as_airplanes = X_test[np.where((Y_test == 2) & (y_pred == 0))[1]].reshape((-1, 32, 32, 3)) # birds predicted as planes"
      ],
      "metadata": {
        "id": "TZoJW3tEyTQU"
      },
      "execution_count": null,
      "outputs": []
    },
    {
      "cell_type": "markdown",
      "source": [
        "The following code shows some of the misclassified images we found above."
      ],
      "metadata": {
        "id": "YCKXIkCAgrgq"
      }
    },
    {
      "cell_type": "code",
      "source": [
        "plt.rcParams[\"figure.figsize\"] = (4, 4)\n",
        "for i in range(10):\n",
        "  print(f\"Image number {i+1}\")\n",
        "  plt.imshow(automobiles_as_airplanes[i], cmap=plt.get_cmap('gray'))\n",
        "  plt.show()"
      ],
      "metadata": {
        "id": "rOyfbPOiVlfe"
      },
      "execution_count": null,
      "outputs": []
    },
    {
      "cell_type": "code",
      "source": [
        "for i in range(10):\n",
        "  print(f\"Image number {i+1}\")\n",
        "  plt.imshow(automobiles_as_birds[i], cmap=plt.get_cmap('gray'))\n",
        "  plt.show()"
      ],
      "metadata": {
        "id": "s54uM5DnVrbn"
      },
      "execution_count": null,
      "outputs": []
    },
    {
      "cell_type": "markdown",
      "source": [
        "To a human viewer, all of the misclassified automobile images are clearly automobiles, even though the images are blurry."
      ],
      "metadata": {
        "id": "ayrZu6UeY5ol"
      }
    },
    {
      "cell_type": "code",
      "source": [
        "for i in range(15):\n",
        "  print(f\"Image number {i+1}\")\n",
        "  plt.imshow(airplanes_as_birds[i], cmap=plt.get_cmap('gray'))\n",
        "  plt.show()"
      ],
      "metadata": {
        "id": "GP2RCny3CO3m"
      },
      "execution_count": null,
      "outputs": []
    },
    {
      "cell_type": "markdown",
      "source": [
        "Looking at the misclassified airplanes, images 1, 3, 4, 10, and 12 look a lot like birds and could easily be interpreted as birds to a human viewer. It's not very clear that they are planes to a human. So, the fact that the neural network classifies these images incorrectly doesn't necessarily mean the neural network is inaccurate."
      ],
      "metadata": {
        "id": "p5Tb4uOBax7G"
      }
    },
    {
      "cell_type": "code",
      "source": [
        "for i in range(20):\n",
        "  print(f\"Image number {i+1}\")\n",
        "  plt.imshow(birds_as_airplanes[i], cmap=plt.get_cmap('gray'))\n",
        "  plt.show()"
      ],
      "metadata": {
        "id": "i0ehRPt0Cdot"
      },
      "execution_count": null,
      "outputs": []
    },
    {
      "cell_type": "markdown",
      "source": [
        "Most of the misclassified bird images look like birds to a human, even though they are blurry. The exceptions are images 11 and 15, which are so blurry that a human who doesn't know these are bird images may not be able to find the bird. But that's usually not the case. That tells us that our neural network often misclassifies birds as planes when a human would not."
      ],
      "metadata": {
        "id": "7P2-WJdMb5QF"
      }
    },
    {
      "cell_type": "markdown",
      "source": [
        "## Conclusion"
      ],
      "metadata": {
        "id": "g7jx49Kb5s7K"
      }
    },
    {
      "cell_type": "markdown",
      "source": [
        "The neural network had a high accuracy, 76.7%. This is much more accurate than randomly guessing: since there are 3 classes, randomly guessing would give an accuracy of about 33.3%. In terms of the percentage of correct predictions for each class, the neural network was slightly worse at classifying automobiles than birds or planes. Looking at those misclassified automobile images, they clearly looked like automobiles to a human, so the problem is with the neural network, not that the images themselves are unclear.\n",
        "\n",
        "Additionally, birds were often misclassified as planes, and vice versa. Looking at the misclassified plane images, some of them could be interpreted as birds by a human, so I concluded that the problem is with the image quality of the airplanes in the dataset. For the misclassified birds, most of those images clearly looked like birds to a human, so the problem was with the neural network.\n",
        "\n",
        "Despite these issues, the percentage of correct predictions for each class was almost the same: 78.3% for planes, 78.2% for birds, and 73.6% for automobiles. And the overall accuracy is very high for only 10 epochs of training. Additionally, there was only a small number of planes misclassified as cars, and a small number of birds misclassified as cars. I only trained the neural network for 10 epochs to make my code run faster, but if I could train it for hundreds of epochs, the accuracy would be much higher. For future work, another method to improve the accuracy would be to use image processing techniques to make the images less blurry."
      ],
      "metadata": {
        "id": "uH1z9-lf5t7O"
      }
    }
  ]
}